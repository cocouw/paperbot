{
 "cells": [
  {
   "cell_type": "code",
   "execution_count": 35,
   "metadata": {},
   "outputs": [],
   "source": [
    "import numpy\n",
    "import scholarly\n",
    "import tweepy\n",
    "import pandas as pd"
   ]
  },
  {
   "cell_type": "code",
   "execution_count": 8,
   "metadata": {},
   "outputs": [],
   "source": [
    "search_query = scholarly.search_author('Jim Pfaendtner')\n",
    "print(next(search_query)) \n",
    "# Retrieve the author's data, fill-in, and print\n",
    "search_query = scholarly.search_author('Jim Pfaendtner')\n",
    "author = next(search_query).fill()\n",
    "#print(author)\n",
    "\n",
    "# Print the titles of the author's publications\n",
    "print([pub.bib['title'] for pub in author.publications])\n",
    "\n",
    "# Take a closer look at the first publication\n",
    "pub = author.publications[0].fill()\n",
    "print(author.publications[0].fill())\n",
    "\n",
    "# Which papers cited that publication?\n",
    "print([citation.bib['title'] for citation in pub.get_citedby()])"
   ]
  },
  {
   "cell_type": "code",
   "execution_count": 3,
   "metadata": {},
   "outputs": [
    {
     "name": "stdout",
     "output_type": "stream",
     "text": [
      "Authentication OK\n"
     ]
    }
   ],
   "source": [
    "# Authenticate to Twitter\n",
    "auth = tweepy.OAuthHandler(\"Nx8QQYr0HIvf5LsQBbmOEHkwl\", \n",
    "    \"gq451Xsq5keBqNSoiu2rUY3mPeI0Fqzzrj21UmGWTwzRr8fGeo\")\n",
    "auth.set_access_token(\"1237156440713736192-TvUNXIxeY1oX3VukiUBNATFmmgCLJO\", \n",
    "    \"qhj2UV74OKJExhc831HsZeFvRH6cehC54yi0Rr7MnUkxz\")\n",
    "\n",
    "api = tweepy.API(auth)\n",
    "\n",
    "try:\n",
    "    api.verify_credentials()\n",
    "    print(\"Authentication OK\")\n",
    "except:\n",
    "    print(\"Error during authentication\")"
   ]
  },
  {
   "cell_type": "code",
   "execution_count": 5,
   "metadata": {},
   "outputs": [
    {
     "name": "stdout",
     "output_type": "stream",
     "text": [
      "User details:\n",
      "毛莫可\n",
      "\n",
      "University District, Seattle\n",
      "Last 20 Followers:\n",
      "Colleen Chiu-Shee\n"
     ]
    }
   ],
   "source": [
    "user = api.get_user(\"maomokecoco\")\n",
    "\n",
    "print(\"User details:\")\n",
    "print(user.name)\n",
    "print(user.description)\n",
    "print(user.location)\n",
    "\n",
    "print(\"Last 20 Followers:\")\n",
    "for follower in user.followers():\n",
    "    print(follower.name)"
   ]
  },
  {
   "cell_type": "code",
   "execution_count": 28,
   "metadata": {},
   "outputs": [],
   "source": [
    "latest_pub = author.publications[-1].fill()"
   ]
  },
  {
   "cell_type": "code",
   "execution_count": 23,
   "metadata": {},
   "outputs": [
    {
     "data": {
      "text/plain": [
       "'Nucleotide-dependent conformational states of actin PNAS 2009 106: 12723-12728; published online before print July 20, 2009, doi: 10.1073/pnas. 0902092106'"
      ]
     },
     "execution_count": 23,
     "metadata": {},
     "output_type": "execute_result"
    }
   ],
   "source": [
    "latest_pub.bib['title']"
   ]
  },
  {
   "cell_type": "code",
   "execution_count": 29,
   "metadata": {
    "collapsed": true
   },
   "outputs": [
    {
     "data": {
      "text/plain": [
       "Status(_api=<tweepy.api.API object at 0x10aa5f750>, _json={'created_at': 'Thu Mar 12 23:31:14 +0000 2020', 'id': 1238246203017646086, 'id_str': '1238246203017646086', 'text': 'Nucleotide-dependent conformational states of actin PNAS 2009 106: 12723-12728; published online before print July… https://t.co/UEn2GAr9YA', 'truncated': True, 'entities': {'hashtags': [], 'symbols': [], 'user_mentions': [], 'urls': [{'url': 'https://t.co/UEn2GAr9YA', 'expanded_url': 'https://twitter.com/i/web/status/1238246203017646086', 'display_url': 'twitter.com/i/web/status/1…', 'indices': [116, 139]}]}, 'source': '<a href=\"https://www.aiche.org/community/divisions-forums/comsef\" rel=\"nofollow\">comsef_paper</a>', 'in_reply_to_status_id': None, 'in_reply_to_status_id_str': None, 'in_reply_to_user_id': None, 'in_reply_to_user_id_str': None, 'in_reply_to_screen_name': None, 'user': {'id': 1237156440713736192, 'id_str': '1237156440713736192', 'name': 'CoMSEF papers', 'screen_name': 'CoMSEF_papers', 'location': '', 'description': '', 'url': None, 'entities': {'description': {'urls': []}}, 'protected': False, 'followers_count': 2, 'friends_count': 3, 'listed_count': 0, 'created_at': 'Mon Mar 09 23:21:14 +0000 2020', 'favourites_count': 1, 'utc_offset': None, 'time_zone': None, 'geo_enabled': False, 'verified': False, 'statuses_count': 2, 'lang': None, 'contributors_enabled': False, 'is_translator': False, 'is_translation_enabled': False, 'profile_background_color': 'F5F8FA', 'profile_background_image_url': None, 'profile_background_image_url_https': None, 'profile_background_tile': False, 'profile_image_url': 'http://abs.twimg.com/sticky/default_profile_images/default_profile_normal.png', 'profile_image_url_https': 'https://abs.twimg.com/sticky/default_profile_images/default_profile_normal.png', 'profile_link_color': '1DA1F2', 'profile_sidebar_border_color': 'C0DEED', 'profile_sidebar_fill_color': 'DDEEF6', 'profile_text_color': '333333', 'profile_use_background_image': True, 'has_extended_profile': True, 'default_profile': True, 'default_profile_image': True, 'following': False, 'follow_request_sent': False, 'notifications': False, 'translator_type': 'none'}, 'geo': None, 'coordinates': None, 'place': None, 'contributors': None, 'is_quote_status': False, 'retweet_count': 0, 'favorite_count': 0, 'favorited': False, 'retweeted': False, 'lang': 'en'}, created_at=datetime.datetime(2020, 3, 12, 23, 31, 14), id=1238246203017646086, id_str='1238246203017646086', text='Nucleotide-dependent conformational states of actin PNAS 2009 106: 12723-12728; published online before print July… https://t.co/UEn2GAr9YA', truncated=True, entities={'hashtags': [], 'symbols': [], 'user_mentions': [], 'urls': [{'url': 'https://t.co/UEn2GAr9YA', 'expanded_url': 'https://twitter.com/i/web/status/1238246203017646086', 'display_url': 'twitter.com/i/web/status/1…', 'indices': [116, 139]}]}, source='comsef_paper', source_url='https://www.aiche.org/community/divisions-forums/comsef', in_reply_to_status_id=None, in_reply_to_status_id_str=None, in_reply_to_user_id=None, in_reply_to_user_id_str=None, in_reply_to_screen_name=None, author=User(_api=<tweepy.api.API object at 0x10aa5f750>, _json={'id': 1237156440713736192, 'id_str': '1237156440713736192', 'name': 'CoMSEF papers', 'screen_name': 'CoMSEF_papers', 'location': '', 'description': '', 'url': None, 'entities': {'description': {'urls': []}}, 'protected': False, 'followers_count': 2, 'friends_count': 3, 'listed_count': 0, 'created_at': 'Mon Mar 09 23:21:14 +0000 2020', 'favourites_count': 1, 'utc_offset': None, 'time_zone': None, 'geo_enabled': False, 'verified': False, 'statuses_count': 2, 'lang': None, 'contributors_enabled': False, 'is_translator': False, 'is_translation_enabled': False, 'profile_background_color': 'F5F8FA', 'profile_background_image_url': None, 'profile_background_image_url_https': None, 'profile_background_tile': False, 'profile_image_url': 'http://abs.twimg.com/sticky/default_profile_images/default_profile_normal.png', 'profile_image_url_https': 'https://abs.twimg.com/sticky/default_profile_images/default_profile_normal.png', 'profile_link_color': '1DA1F2', 'profile_sidebar_border_color': 'C0DEED', 'profile_sidebar_fill_color': 'DDEEF6', 'profile_text_color': '333333', 'profile_use_background_image': True, 'has_extended_profile': True, 'default_profile': True, 'default_profile_image': True, 'following': False, 'follow_request_sent': False, 'notifications': False, 'translator_type': 'none'}, id=1237156440713736192, id_str='1237156440713736192', name='CoMSEF papers', screen_name='CoMSEF_papers', location='', description='', url=None, entities={'description': {'urls': []}}, protected=False, followers_count=2, friends_count=3, listed_count=0, created_at=datetime.datetime(2020, 3, 9, 23, 21, 14), favourites_count=1, utc_offset=None, time_zone=None, geo_enabled=False, verified=False, statuses_count=2, lang=None, contributors_enabled=False, is_translator=False, is_translation_enabled=False, profile_background_color='F5F8FA', profile_background_image_url=None, profile_background_image_url_https=None, profile_background_tile=False, profile_image_url='http://abs.twimg.com/sticky/default_profile_images/default_profile_normal.png', profile_image_url_https='https://abs.twimg.com/sticky/default_profile_images/default_profile_normal.png', profile_link_color='1DA1F2', profile_sidebar_border_color='C0DEED', profile_sidebar_fill_color='DDEEF6', profile_text_color='333333', profile_use_background_image=True, has_extended_profile=True, default_profile=True, default_profile_image=True, following=False, follow_request_sent=False, notifications=False, translator_type='none'), user=User(_api=<tweepy.api.API object at 0x10aa5f750>, _json={'id': 1237156440713736192, 'id_str': '1237156440713736192', 'name': 'CoMSEF papers', 'screen_name': 'CoMSEF_papers', 'location': '', 'description': '', 'url': None, 'entities': {'description': {'urls': []}}, 'protected': False, 'followers_count': 2, 'friends_count': 3, 'listed_count': 0, 'created_at': 'Mon Mar 09 23:21:14 +0000 2020', 'favourites_count': 1, 'utc_offset': None, 'time_zone': None, 'geo_enabled': False, 'verified': False, 'statuses_count': 2, 'lang': None, 'contributors_enabled': False, 'is_translator': False, 'is_translation_enabled': False, 'profile_background_color': 'F5F8FA', 'profile_background_image_url': None, 'profile_background_image_url_https': None, 'profile_background_tile': False, 'profile_image_url': 'http://abs.twimg.com/sticky/default_profile_images/default_profile_normal.png', 'profile_image_url_https': 'https://abs.twimg.com/sticky/default_profile_images/default_profile_normal.png', 'profile_link_color': '1DA1F2', 'profile_sidebar_border_color': 'C0DEED', 'profile_sidebar_fill_color': 'DDEEF6', 'profile_text_color': '333333', 'profile_use_background_image': True, 'has_extended_profile': True, 'default_profile': True, 'default_profile_image': True, 'following': False, 'follow_request_sent': False, 'notifications': False, 'translator_type': 'none'}, id=1237156440713736192, id_str='1237156440713736192', name='CoMSEF papers', screen_name='CoMSEF_papers', location='', description='', url=None, entities={'description': {'urls': []}}, protected=False, followers_count=2, friends_count=3, listed_count=0, created_at=datetime.datetime(2020, 3, 9, 23, 21, 14), favourites_count=1, utc_offset=None, time_zone=None, geo_enabled=False, verified=False, statuses_count=2, lang=None, contributors_enabled=False, is_translator=False, is_translation_enabled=False, profile_background_color='F5F8FA', profile_background_image_url=None, profile_background_image_url_https=None, profile_background_tile=False, profile_image_url='http://abs.twimg.com/sticky/default_profile_images/default_profile_normal.png', profile_image_url_https='https://abs.twimg.com/sticky/default_profile_images/default_profile_normal.png', profile_link_color='1DA1F2', profile_sidebar_border_color='C0DEED', profile_sidebar_fill_color='DDEEF6', profile_text_color='333333', profile_use_background_image=True, has_extended_profile=True, default_profile=True, default_profile_image=True, following=False, follow_request_sent=False, notifications=False, translator_type='none'), geo=None, coordinates=None, place=None, contributors=None, is_quote_status=False, retweet_count=0, favorite_count=0, favorited=False, retweeted=False, lang='en')"
      ]
     },
     "execution_count": 29,
     "metadata": {},
     "output_type": "execute_result"
    }
   ],
   "source": [
    "api.update_status(latest_pub.bib['title']+' published by '+latest_pub.bib['author'])"
   ]
  },
  {
   "cell_type": "code",
   "execution_count": 31,
   "metadata": {
    "collapsed": true
   },
   "outputs": [
    {
     "name": "stdout",
     "output_type": "stream",
     "text": [
      "{'_filled': False,\n",
      " 'affiliation': 'University of Washington',\n",
      " 'citedby': 2750,\n",
      " 'email': '@uw.edu',\n",
      " 'id': 'ASTIg_wAAAAJ',\n",
      " 'interests': ['molecular simulation',\n",
      "               'enhanced sampling',\n",
      "               'biophysics',\n",
      "               'polymers',\n",
      "               'reaction engineering'],\n",
      " 'name': 'Jim Pfaendtner',\n",
      " 'url_picture': 'https://scholar.google.com/citations?view_op=medium_photo&user=ASTIg_wAAAAJ'}\n",
      "['The 1-D hindered rotor approximation', 'A systematic methodology for defining coarse-grained sites in large biomolecules', 'Systematic multiscale parameterization of heterogeneous elastic network models of proteins', 'Nucleotide-dependent conformational states of actin', 'The general AMBER force field (GAFF) can accurately predict thermodynamic and transport properties of many ionic liquids', 'Exhaustively sampling peptide adsorption with metadynamics', 'Efficient simulation of explicitly solvated proteins in the well-tempered ensemble', 'Actin filament remodeling by actin depolymerization factor/cofilin', 'Lexicography of kinetic modeling of complex reaction networks', 'Ice-nucleating bacteria control the order and dynamics of interfacial water', 'Structure and dynamics of the actin filament', 'Defining coarse-grained representations of large biomolecules and biomolecular complexes from elastic network models', 'Efficient sampling of high-dimensional free-energy landscapes with parallel bias metadynamics', 'Ab initio study of acrylate polymerization reactions: Methyl methacrylate and methyl acrylate propagation', 'Structure, dynamics, and activity of xylanase solvated in binary mixtures of ionic liquid and water', 'Quantum chemical investigation of low-temperature intramolecular hydrogen transfer reactions of hydrocarbons', 'Millisecond pulsed films unify the mechanisms of cellulose fragmentation', 'Mechanistic modeling of lubricant degradation. 1. Structure− reactivity relationships for free-radical oxidation', 'Mechanistic modeling of lubricant degradation. 2. The autoxidation of decane and octane', 'Data science: Accelerating innovation and discovery in chemical engineering', 'Structural and dynamic features of Candida rugosa lipase 1 in water, octane, toluene, and ionic liquids BMIM-PF6 and BMIM-NO3', 'Comparison of three ionic liquid-tolerant cellulases by molecular dynamics', 'Tuning crystallization pathways through sequence engineering of biomimetic polymers', 'Molecular dynamics investigation of the ionic liquid/enzyme interface: Application to engineering enzyme surface charge', 'Diatom mimics: directing the formation of biosilica nanoparticles by controlled folding of lysine-leucine peptides', 'Structural effects of methionine oxidation on isolated subdomains of human fibrin D and αC regions', 'Fast pyrolysis of wood for biofuels: spatiotemporally resolved diffuse reflectance in situ spectroscopy of particles', 'New approach for investigating reaction dynamics and rates with ab initio calculations', 'Folding and insertion thermodynamics of the transmembrane WALP peptide', 'Free energy of solvated salt bridges: A simulation and experimental study', 'Key structural features of the actin filament Arp2/3 complex branch junction revealed by molecular simulation', 'Enhanced sampling of chemical and biochemical reactions with metadynamics', 'Strong electrostatic interactions lead to entropically favorable binding of peptides to charged surfaces', 'Biomimetic growth of ultrathin silica sheets using artificial amphiphilic peptides', 'Car–Parrinello molecular dynamics+ metadynamics study of high-temperature methanol oxidation reactions using generic collective variables', 'Ionic liquids can selectively change the conformational free-energy landscape of sugar rings', 'Promoting transparency and reproducibility in enhanced molecular simulations', 'Detailed kinetic modeling of lignin pyrolysis for process optimization', 'Trp-cage folding on organic surfaces', 'Molecular dynamics simulation and coarse-grained analysis of the Arp2/3 complex', 'Kinetics and mechanism of ionic-liquid induced protein unfolding: application to the model protein HP35', 'Ultrafast reorientational dynamics of leucine at the air–water interface', 'Solvatochromism and Conformational Changes in Fully Dissolved Poly (3-Alkylthiophene) s', 'Essential slow degrees of freedom in protein-surface simulations: A metadynamics investigation', 'Effect of hydrophobic and hydrophilic surfaces on the stability of double-stranded DNA', 'Application of machine learning to pyrolysis reaction networks: Reducing model solution time to enable process optimization', 'The Structure of the Diatom Silaffin Peptide R5 within Freestanding Two‐Dimensional Biosilica Sheets', 'Lytic Polysaccharide Monooxygenases ScLPMO10B and ScLPMO10C Are Stable in Ionic Liquids As Determined by Molecular Simulations', 'Characterizing the catalyzed hydrolysis of β-1, 4 glycosidic bonds using density functional theory', 'Assessing generic collective variables for determining reaction rates in metadynamics simulations', 'Destabilization of human serum albumin by ionic liquids studied using enhanced molecular dynamics simulations', 'Tackling sampling challenges in biomolecular simulations', 'Elucidation of structure–reactivity relationships in hindered phenols via quantum chemistry and transition state theory', 'Investigating the Role of Phosphorylation in the Binding of Silaffin Peptide R5 to Silica with Molecular Dynamics Simulations', 'Tribological degradation of two vegetable‐based lubricants at elevated temperatures', 'Lifting the curse of dimensionality on enhanced sampling of reaction networks with parallel bias metadynamics', 'Enhancing the oxidation of toluene with external electric fields: a reactive molecular dynamics study', 'Elucidating sequence and solvent specific design targets to protect and stabilize enzymes for biocatalysis in ionic liquids', 'Using Molecular Simulation to Study Biocatalysis in Ionic Liquids', 'Structure Characterization and Properties of Metal–Surfactant Complexes Dispersed in Organic Solvents', 'Peptoid backbone flexibilility dictates its interaction with water and surfaces: a molecular dynamics investigation', 'Determining energy barriers and selectivities of a multi-pathway system with infrequent metadynamics', 'Contra‐thermodynamic Behavior in Intermolecular Hydrogen Transfer of Alkylperoxy Radicals', 'Trimethylamine N-oxide–derived zwitterionic polymers: A new class of ultralow fouling bioinspired materials', 'Ice-binding site of surface-bound type III antifreeze protein partially decoupled from water', 'Mechanism of Competitive Inhibition and Destabilization of Acidothermus cellulolyticus Endoglucanase 1 by Ionic Liquids', 'Data science for chemical engineers', 'Chain flexibility in self-assembled monolayers affects protein adsorption and surface hydration: a molecular dynamics study', 'Molecular Driving Forces in Peptide Adsorption to Metal Oxide Surfaces', 'Statistical models are able to predict ionic liquid viscosity across a wide range of chemical functionalities and experimental conditions', 'Quantifying the molecular-scale aqueous response to the mica surface', 'LK peptide side chain dynamics at interfaces are independent of secondary structure', 'Probing How Defects in Self-assembled Monolayers Affect Peptide Adsorption with Molecular Simulation', 'Biasing smarter, not harder, by partitioning collective variables into families in parallel bias metadynamics', 'Solid-State NMR and MD Study of the Structure of the Statherin Mutant SNa15 on Mineral Surfaces', 'Design of polyphosphate inhibitors: A molecular dynamics investigation on polyethylene glycol-linked cationic binding groups', 'Determining dominant driving forces affecting controlled protein release from polymeric nanoparticles', 'Acetylation dictates the morphology of nanophase biosilica precipitated by a 14‐amino acid leucine–lysine peptide', 'Diagnosing the impact of external electric fields chemical kinetics: application to toluene oxidation and pyrolysis', 'Assessment of molecular dynamics simulations for amorphous poly (3-hexylthiophene) using neutron and X-ray scattering experiments', 'Density functional tight-binding and infrequent metadynamics can capture entropic effects in intramolecular hydrogen transfer reactions', 'Effect of an ionic liquid/air Interface on the structure and dynamics of amphiphilic peptides', 'Combining Molecular and Spin Dynamics Simulations with Solid-State NMR: A Case Study of Amphiphilic Lysine–Leucine Repeat Peptide Aggregates', 'Generic Biphasic Catalytic Approach for Producing Renewable Diesel from Fatty Acids and Vegetable Oils', 'Editorial overview: Frontiers of chemical engineering: Molecular modeling', 'Metadynamics to Enhance Sampling in Biomolecular Simulations', 'IL-Net: Using Expert Knowledge to Guide the Design of Furcated Neural Networks', 'Inhibition of the Exoglucanase Cel7A by a Douglas-Fir-Condensed Tannin', 'Multimodal Deep Neural Networks using Both Engineered and Learned Representations for Biodegradability Prediction', 'Thiolated Lysine‐Leucine Peptides Self‐Assemble into Biosilica Nucleation Pits on Gold Surfaces', 'Die Struktur des Silaffin‐Peptids R5 aus Diatomeen in freistehenden zweidimensionalen Biosilikatwänden', 'A New Graduate Level Seminar to Prepare Students for the Next Step in Their Careers', 'Mechanistic modeling of hydrocarbon autoxidation: Theory and application to the study of lubricant degradation', 'Bottom-up Coarse-grained Molecular Simulations of Peptoids with Enhanced Sampling', 'Sequence-structure-binding relationships reveal adhesion behavior of the Car9 solid-binding peptide: an integrated experimental and simulation study', 'Elucidating the molecular interactions between uremic toxins and the Sudlow II binding site of human serum albumin', 'Impact of glutamate carboxylation in the adsorption of the α-1 domain of osteocalcin to hydroxyapatite and titania', 'Amphiphilic peptide binding on crystalline vs. amorphous silica from molecular dynamics simulations', 'Binding Mechanism of Titania Binding Peptide (TBP) on Titania from MD Simulations', 'Using Enhanced Sampling Methods to Study the Behavior of Osteocalcin on Mineral Surfaces', 'The Mechanism of Xylose Pyrolysis', 'Elucidating molecular design principles for charge-alternating peptides', 'Relaxing the aquaporin crystal structure in a membrane with surface vibrational spectroscopy', 'Fantastic Liquids and Where To Find Them: Optimizations of Discrete Chemical Space', 'Structural studies of peptide/surface interactions using a high-dimensional enhanced sampling scheme', 'Designing Superhydrophilic, Disordered Peptides to Improve the Stability and Efficacy of Protein Therapeutics', 'Peptide Aggregation in Solution and Interaction with Inorganic Surfaces: A Metadynamics Investigation', 'Probing Enzyme Catalyzed Hydrolysis of Cellulose in Ionic Liquids Using Enhanced Sampling Techniques', 'Understanding the Role of Ionic Liquids in the Enzyme Catalyzed Breakdown of Cellulose Using Molecular Dynamics Simulations', 'A Data Science Approach for Quantitative Analysis of Total Differential Capacity Plots', 'Application of molecular dynamics to discover and quantify reaction pathways', 'The Impact of Molecular Sequence on Hierarchical Assembly of Biomimetic Polymers', 'Aggregation and Self-Assembly of Biomimetic Polymers at Interfaces', 'Analyzing Reaction Networks and Pathway Kinetics Via Metadynamics Simulations', 'Douglas-fir Tannin Inhibition of Trichoderma Reesei Cellulase', 'Redefining the Protein–Protein Interface: Coarse Graining and Combinatorics for an Improved Understanding of Amino Acid Contributions to the Protein–Protein Binding Affinity', 'Studies towards the improvement in the design of novel polyphosphate inhibitors as antithrombotic agents using molecular dynamics simulations', 'Data science tools for biomass pyrolysis-application to thermochemical conversion of lignin', 'Predicting the structure and orientation of adsorbed peptides with molecular simulations', 'Molecular simulations provide crucial insights into the mechanisms of biocatalysis in ionic liquids', 'Using metadynamics for quantitative estimates of chemical reaction kinetics', 'LK-peptide structural and behavioral changes in ionic liquid solvents', 'Electrolytes at the muscovite (001) interface: A molecular dynamics study', 'Analysis of High-Speed Rotating Flow in 2D Polar (R− Θ) Coordinate', 'Biomimetic silica formation probed at the molecular level using SFG spectroscopy and MD simulation', 'Molecular simulation of hydrolysis reactions to engineer more efficient biomass conversion', 'Engineering the Interface Between Biomolecules, Solvents, and Surfaces Using Molecular Simulation', 'Inside Cover Picture: Fast Pyrolysis of Wood for Biofuels: Spatiotemporally Resolved Diffuse Reflectance In situ Spectroscopy of Particles (ChemSusChem 3/2014)', 'Studying the Effects of Methionine Oxidation on Human Fibrin with Multiscale Simulations', 'Structural Insights on the Statherin N-Terminal Binding Domain in the Adsorbed State', 'Spatiotemporally resolved diffuse reflectance in situ spectroscopy (DRiSP) of pyrolyzing wood particles', 'Coagulopathy In Trauma Patients Is Accompanied By Oxidation Of a Methionine Residue In The αC Domain Of Fibrinogen and Abnormal Fibrin Polymerization', 'Spatio-temporal carbohydrate characterization of wood particles during fast pyrolysis', 'Conference: AIChE Annual Meeting', 'Simulation Reveals Fundamental Behavior of the Actin Filament and Arp2/3 Branch Junction', 'Mechanistic modeling of lubricant degradation: The autoxidation of alkanes', 'FUEL 50-Mechanistic modeling of lubricant degradation: The autoxidation of alkanes', 'Multiscale Biophysics: Theory and Application to the Dynamics of Actin and Actin-Related Structures', 'Multiscale Investigation of Nucleotide Effects In Actin Structures', 'Thermal Degradation of Soybean and Sunflower Oils', 'Elucidation of Structure-Reactivity Relationships Using Quantum Chemistry', 'Strategies for constructing reaction networks of lubricant degradation', 'Quantum chemical studies of free-radical, hindered phenol stabilizers', 'Design of new lubricant formulations through mechanistic modeling', 'Control of Water Structure and Dynamics by Ice Nucleating Bacteria', 'ELUCIDATING ADDITIVE EFFECTS ON EARLY STAGE SOLID-ELECTROLYTE INTERPHASE GROWTH MECHANISMS USING MOLECULAR DYNAMICS', 'Molecular Systems Design & Engineering', 'Determining Mechanisms of Ionic Liquid-Induced Activity Loss of Enzymes with Molecular Simulation', 'Deighan, M., University of Washington Englund, P., University of Washington', 'Theoretical Considerations of Conjugated Polymer Self-Assembly', 'Nucleotide-dependent conformational states of actin PNAS 2009 106: 12723-12728; published online before print July 20, 2009, doi: 10.1073/pnas. 0902092106']\n"
     ]
    },
    {
     "name": "stdout",
     "output_type": "stream",
     "text": [
      "{'_filled': True,\n",
      " 'bib': {'abstract': <div class=\"gsc_vcd_value\" id=\"gsc_vcd_descr\"><div class=\"gsh_small\"> <div class=\"gsh_csp\">We offer an overview of the popular one- dimensional (1-D) hindered rotor model that is often used for quantum mechanical treatment of internal rotation. This model is put in context with other methods used for treating anharmonic motions. The 1-D hindered rotor scheme is general for tops of any symmetry and has been used to provide accurate treatment of hindered rotors in a wide range of systems. One obstacle preventing wider use of the model is its lack of incorporation into common electronic structure codes. We have developed an algorithm for consistently treating all tops in a molecule, and we present simple codes which interface with electronic structure codes to provide thermochemical properties (S, C<sub> <i>p</i> </sub>, H) of individual species and reactions that have been corrected for internal rotations. Finally, we use this approach to give sensible advice about how the model can be used …</div></div></div>,\n",
      "         'author': 'Jim Pfaendtner and Xinrui Yu and Linda J Broadbelt',\n",
      "         'eprint': 'https://link.springer.com/content/pdf/10.1007/s00214-007-0376-5.pdf',\n",
      "         'journal': 'Theoretical Chemistry Accounts',\n",
      "         'number': '5-6',\n",
      "         'pages': '881',\n",
      "         'publisher': 'Springer-Verlag',\n",
      "         'title': 'The 1-D hindered rotor approximation',\n",
      "         'url': 'https://link.springer.com/article/10.1007/s00214-007-0376-5',\n",
      "         'volume': '118',\n",
      "         'year': 2007},\n",
      " 'citedby': 159,\n",
      " 'id_citations': 'ASTIg_wAAAAJ:u5HHmVD_uO8C',\n",
      " 'id_scholarcitedby': '10096436418087149077',\n",
      " 'source': 'citations'}\n"
     ]
    },
    {
     "ename": "KeyboardInterrupt",
     "evalue": "",
     "output_type": "error",
     "traceback": [
      "\u001b[0;31m---------------------------------------------------------------------------\u001b[0m",
      "\u001b[0;31mKeyboardInterrupt\u001b[0m                         Traceback (most recent call last)",
      "\u001b[0;32m<ipython-input-31-5e6c3c5d61f0>\u001b[0m in \u001b[0;36m<module>\u001b[0;34m\u001b[0m\n\u001b[1;32m     16\u001b[0m \u001b[0;34m\u001b[0m\u001b[0m\n\u001b[1;32m     17\u001b[0m \u001b[0;31m# Which papers cited that publication?\u001b[0m\u001b[0;34m\u001b[0m\u001b[0;34m\u001b[0m\u001b[0;34m\u001b[0m\u001b[0m\n\u001b[0;32m---> 18\u001b[0;31m \u001b[0mprint\u001b[0m\u001b[0;34m(\u001b[0m\u001b[0;34m[\u001b[0m\u001b[0mcitation\u001b[0m\u001b[0;34m.\u001b[0m\u001b[0mbib\u001b[0m\u001b[0;34m[\u001b[0m\u001b[0;34m'title'\u001b[0m\u001b[0;34m]\u001b[0m \u001b[0;32mfor\u001b[0m \u001b[0mcitation\u001b[0m \u001b[0;32min\u001b[0m \u001b[0mpub\u001b[0m\u001b[0;34m.\u001b[0m\u001b[0mget_citedby\u001b[0m\u001b[0;34m(\u001b[0m\u001b[0;34m)\u001b[0m\u001b[0;34m]\u001b[0m\u001b[0;34m)\u001b[0m\u001b[0;34m\u001b[0m\u001b[0;34m\u001b[0m\u001b[0m\n\u001b[0m",
      "\u001b[0;32m<ipython-input-31-5e6c3c5d61f0>\u001b[0m in \u001b[0;36m<listcomp>\u001b[0;34m(.0)\u001b[0m\n\u001b[1;32m     16\u001b[0m \u001b[0;34m\u001b[0m\u001b[0m\n\u001b[1;32m     17\u001b[0m \u001b[0;31m# Which papers cited that publication?\u001b[0m\u001b[0;34m\u001b[0m\u001b[0;34m\u001b[0m\u001b[0;34m\u001b[0m\u001b[0m\n\u001b[0;32m---> 18\u001b[0;31m \u001b[0mprint\u001b[0m\u001b[0;34m(\u001b[0m\u001b[0;34m[\u001b[0m\u001b[0mcitation\u001b[0m\u001b[0;34m.\u001b[0m\u001b[0mbib\u001b[0m\u001b[0;34m[\u001b[0m\u001b[0;34m'title'\u001b[0m\u001b[0;34m]\u001b[0m \u001b[0;32mfor\u001b[0m \u001b[0mcitation\u001b[0m \u001b[0;32min\u001b[0m \u001b[0mpub\u001b[0m\u001b[0;34m.\u001b[0m\u001b[0mget_citedby\u001b[0m\u001b[0;34m(\u001b[0m\u001b[0;34m)\u001b[0m\u001b[0;34m]\u001b[0m\u001b[0;34m)\u001b[0m\u001b[0;34m\u001b[0m\u001b[0;34m\u001b[0m\u001b[0m\n\u001b[0m",
      "\u001b[0;32m/opt/anaconda3/lib/python3.7/site-packages/scholarly/scholarly.py\u001b[0m in \u001b[0;36m_search_scholar_soup\u001b[0;34m(soup)\u001b[0m\n\u001b[1;32m     99\u001b[0m         \u001b[0;32mif\u001b[0m \u001b[0msoup\u001b[0m\u001b[0;34m.\u001b[0m\u001b[0mfind\u001b[0m\u001b[0;34m(\u001b[0m\u001b[0mclass_\u001b[0m\u001b[0;34m=\u001b[0m\u001b[0;34m'gs_ico gs_ico_nav_next'\u001b[0m\u001b[0;34m)\u001b[0m\u001b[0;34m:\u001b[0m\u001b[0;34m\u001b[0m\u001b[0;34m\u001b[0m\u001b[0m\n\u001b[1;32m    100\u001b[0m             \u001b[0murl\u001b[0m \u001b[0;34m=\u001b[0m \u001b[0msoup\u001b[0m\u001b[0;34m.\u001b[0m\u001b[0mfind\u001b[0m\u001b[0;34m(\u001b[0m\u001b[0mclass_\u001b[0m\u001b[0;34m=\u001b[0m\u001b[0;34m'gs_ico gs_ico_nav_next'\u001b[0m\u001b[0;34m)\u001b[0m\u001b[0;34m.\u001b[0m\u001b[0mparent\u001b[0m\u001b[0;34m[\u001b[0m\u001b[0;34m'href'\u001b[0m\u001b[0;34m]\u001b[0m\u001b[0;34m\u001b[0m\u001b[0;34m\u001b[0m\u001b[0m\n\u001b[0;32m--> 101\u001b[0;31m             \u001b[0msoup\u001b[0m \u001b[0;34m=\u001b[0m \u001b[0m_get_soup\u001b[0m\u001b[0;34m(\u001b[0m\u001b[0m_HOST\u001b[0m\u001b[0;34m+\u001b[0m\u001b[0murl\u001b[0m\u001b[0;34m)\u001b[0m\u001b[0;34m\u001b[0m\u001b[0;34m\u001b[0m\u001b[0m\n\u001b[0m\u001b[1;32m    102\u001b[0m         \u001b[0;32melse\u001b[0m\u001b[0;34m:\u001b[0m\u001b[0;34m\u001b[0m\u001b[0;34m\u001b[0m\u001b[0m\n\u001b[1;32m    103\u001b[0m             \u001b[0;32mbreak\u001b[0m\u001b[0;34m\u001b[0m\u001b[0;34m\u001b[0m\u001b[0m\n",
      "\u001b[0;32m/opt/anaconda3/lib/python3.7/site-packages/scholarly/scholarly.py\u001b[0m in \u001b[0;36m_get_soup\u001b[0;34m(pagerequest)\u001b[0m\n\u001b[1;32m     87\u001b[0m \u001b[0;32mdef\u001b[0m \u001b[0m_get_soup\u001b[0m\u001b[0;34m(\u001b[0m\u001b[0mpagerequest\u001b[0m\u001b[0;34m)\u001b[0m\u001b[0;34m:\u001b[0m\u001b[0;34m\u001b[0m\u001b[0;34m\u001b[0m\u001b[0m\n\u001b[1;32m     88\u001b[0m     \u001b[0;34m\"\"\"Return the BeautifulSoup for a page on scholar.google.com\"\"\"\u001b[0m\u001b[0;34m\u001b[0m\u001b[0;34m\u001b[0m\u001b[0m\n\u001b[0;32m---> 89\u001b[0;31m     \u001b[0mhtml\u001b[0m \u001b[0;34m=\u001b[0m \u001b[0m_get_page\u001b[0m\u001b[0;34m(\u001b[0m\u001b[0mpagerequest\u001b[0m\u001b[0;34m)\u001b[0m\u001b[0;34m\u001b[0m\u001b[0;34m\u001b[0m\u001b[0m\n\u001b[0m\u001b[1;32m     90\u001b[0m     \u001b[0mhtml\u001b[0m \u001b[0;34m=\u001b[0m \u001b[0mhtml\u001b[0m\u001b[0;34m.\u001b[0m\u001b[0mreplace\u001b[0m\u001b[0;34m(\u001b[0m\u001b[0;34mu'\\xa0'\u001b[0m\u001b[0;34m,\u001b[0m \u001b[0;34mu' '\u001b[0m\u001b[0;34m)\u001b[0m\u001b[0;34m\u001b[0m\u001b[0;34m\u001b[0m\u001b[0m\n\u001b[1;32m     91\u001b[0m     \u001b[0;32mreturn\u001b[0m \u001b[0mBeautifulSoup\u001b[0m\u001b[0;34m(\u001b[0m\u001b[0mhtml\u001b[0m\u001b[0;34m,\u001b[0m \u001b[0;34m'html.parser'\u001b[0m\u001b[0;34m)\u001b[0m\u001b[0;34m\u001b[0m\u001b[0;34m\u001b[0m\u001b[0m\n",
      "\u001b[0;32m/opt/anaconda3/lib/python3.7/site-packages/scholarly/scholarly.py\u001b[0m in \u001b[0;36m_get_page\u001b[0;34m(pagerequest)\u001b[0m\n\u001b[1;32m     68\u001b[0m     \u001b[0;34m\"\"\"Return the data for a page on scholar.google.com\"\"\"\u001b[0m\u001b[0;34m\u001b[0m\u001b[0;34m\u001b[0m\u001b[0m\n\u001b[1;32m     69\u001b[0m     \u001b[0;31m# Note that we include a sleep to avoid overloading the scholar server\u001b[0m\u001b[0;34m\u001b[0m\u001b[0;34m\u001b[0m\u001b[0;34m\u001b[0m\u001b[0m\n\u001b[0;32m---> 70\u001b[0;31m     \u001b[0mtime\u001b[0m\u001b[0;34m.\u001b[0m\u001b[0msleep\u001b[0m\u001b[0;34m(\u001b[0m\u001b[0;36m5\u001b[0m\u001b[0;34m+\u001b[0m\u001b[0mrandom\u001b[0m\u001b[0;34m.\u001b[0m\u001b[0muniform\u001b[0m\u001b[0;34m(\u001b[0m\u001b[0;36m0\u001b[0m\u001b[0;34m,\u001b[0m \u001b[0;36m5\u001b[0m\u001b[0;34m)\u001b[0m\u001b[0;34m)\u001b[0m\u001b[0;34m\u001b[0m\u001b[0;34m\u001b[0m\u001b[0m\n\u001b[0m\u001b[1;32m     71\u001b[0m     \u001b[0mresp\u001b[0m \u001b[0;34m=\u001b[0m \u001b[0m_SESSION\u001b[0m\u001b[0;34m.\u001b[0m\u001b[0mget\u001b[0m\u001b[0;34m(\u001b[0m\u001b[0mpagerequest\u001b[0m\u001b[0;34m,\u001b[0m \u001b[0mheaders\u001b[0m\u001b[0;34m=\u001b[0m\u001b[0m_HEADERS\u001b[0m\u001b[0;34m,\u001b[0m \u001b[0mcookies\u001b[0m\u001b[0;34m=\u001b[0m\u001b[0m_COOKIES\u001b[0m\u001b[0;34m)\u001b[0m\u001b[0;34m\u001b[0m\u001b[0;34m\u001b[0m\u001b[0m\n\u001b[1;32m     72\u001b[0m     \u001b[0;32mif\u001b[0m \u001b[0mresp\u001b[0m\u001b[0;34m.\u001b[0m\u001b[0mstatus_code\u001b[0m \u001b[0;34m==\u001b[0m \u001b[0;36m200\u001b[0m\u001b[0;34m:\u001b[0m\u001b[0;34m\u001b[0m\u001b[0;34m\u001b[0m\u001b[0m\n",
      "\u001b[0;31mKeyboardInterrupt\u001b[0m: "
     ]
    }
   ],
   "source": [
    "search_query = scholarly.search_author('Jim Pfaendtner')\n",
    "\n",
    "print(next(search_query)) \n",
    "# Retrieve the author's data, fill-in, and print\n",
    "\n",
    "search_query = scholarly.search_author('Jim Pfaendtner')\n",
    "author = next(search_query).fill()\n",
    "print(author)\n",
    "\n",
    "# Print the titles of the author's publications\n",
    "print([pub.bib['title'] for pub in author.publications])\n",
    "\n",
    "# Take a closer look at the first publication\n",
    "pub = author.publications[0].fill()\n",
    "print(author.publications[0].fill())\n",
    "\n",
    "# Which papers cited that publication?\n",
    "print([citation.bib['title'] for citation in pub.get_citedby()])"
   ]
  },
  {
   "cell_type": "code",
   "execution_count": 33,
   "metadata": {},
   "outputs": [
    {
     "name": "stdout",
     "output_type": "stream",
     "text": [
      "{'_filled': False,\n",
      " 'affiliation': 'University of Washington',\n",
      " 'citedby': 2750,\n",
      " 'email': '@uw.edu',\n",
      " 'id': 'ASTIg_wAAAAJ',\n",
      " 'interests': ['molecular simulation',\n",
      "               'enhanced sampling',\n",
      "               'biophysics',\n",
      "               'polymers',\n",
      "               'reaction engineering'],\n",
      " 'name': 'Jim Pfaendtner',\n",
      " 'url_picture': 'https://scholar.google.com/citations?view_op=medium_photo&user=ASTIg_wAAAAJ'}\n",
      "{'_filled': True,\n",
      " 'affiliation': 'University of Washington',\n",
      " 'citedby': 2750,\n",
      " 'citedby5y': 2030,\n",
      " 'cites_per_year': {2007: 16,\n",
      "                    2008: 25,\n",
      "                    2009: 60,\n",
      "                    2010: 103,\n",
      "                    2011: 125,\n",
      "                    2012: 114,\n",
      "                    2013: 132,\n",
      "                    2014: 128,\n",
      "                    2015: 225,\n",
      "                    2016: 311,\n",
      "                    2017: 417,\n",
      "                    2018: 478,\n",
      "                    2019: 460,\n",
      "                    2020: 134},\n",
      " 'coauthors': [<scholarly.scholarly.Author object at 0x11d773fd0>],\n",
      " 'email': '@uw.edu',\n",
      " 'hindex': 30,\n",
      " 'hindex5y': 28,\n",
      " 'i10index': 60,\n",
      " 'i10index5y': 57,\n",
      " 'id': 'ASTIg_wAAAAJ',\n",
      " 'interests': ['molecular simulation',\n",
      "               'enhanced sampling',\n",
      "               'biophysics',\n",
      "               'polymers',\n",
      "               'reaction engineering'],\n",
      " 'name': 'Jim Pfaendtner',\n",
      " 'publications': [<scholarly.scholarly.Publication object at 0x11d5da950>,\n",
      "                  <scholarly.scholarly.Publication object at 0x11d5da8d0>,\n",
      "                  <scholarly.scholarly.Publication object at 0x11d5da990>,\n",
      "                  <scholarly.scholarly.Publication object at 0x11d5da9d0>,\n",
      "                  <scholarly.scholarly.Publication object at 0x11d5daa10>,\n",
      "                  <scholarly.scholarly.Publication object at 0x11d5daa90>,\n",
      "                  <scholarly.scholarly.Publication object at 0x11d5daad0>,\n",
      "                  <scholarly.scholarly.Publication object at 0x11d5dab10>,\n",
      "                  <scholarly.scholarly.Publication object at 0x11d5dab50>,\n",
      "                  <scholarly.scholarly.Publication object at 0x11d5daa50>,\n",
      "                  <scholarly.scholarly.Publication object at 0x11d5dab90>,\n",
      "                  <scholarly.scholarly.Publication object at 0x11d5dabd0>,\n",
      "                  <scholarly.scholarly.Publication object at 0x11d5dac10>,\n",
      "                  <scholarly.scholarly.Publication object at 0x11d5dac50>,\n",
      "                  <scholarly.scholarly.Publication object at 0x11d5dac90>,\n",
      "                  <scholarly.scholarly.Publication object at 0x11d5dacd0>,\n",
      "                  <scholarly.scholarly.Publication object at 0x11d5dad10>,\n",
      "                  <scholarly.scholarly.Publication object at 0x11d5dad50>,\n",
      "                  <scholarly.scholarly.Publication object at 0x11d5dad90>,\n",
      "                  <scholarly.scholarly.Publication object at 0x11d5dadd0>,\n",
      "                  <scholarly.scholarly.Publication object at 0x11d5dae10>,\n",
      "                  <scholarly.scholarly.Publication object at 0x11d5dae50>,\n",
      "                  <scholarly.scholarly.Publication object at 0x11d5dae90>,\n",
      "                  <scholarly.scholarly.Publication object at 0x11d5daed0>,\n",
      "                  <scholarly.scholarly.Publication object at 0x11d5daf10>,\n",
      "                  <scholarly.scholarly.Publication object at 0x11d5daf50>,\n",
      "                  <scholarly.scholarly.Publication object at 0x11d5daf90>,\n",
      "                  <scholarly.scholarly.Publication object at 0x11d5dafd0>,\n",
      "                  <scholarly.scholarly.Publication object at 0x11d5e3050>,\n",
      "                  <scholarly.scholarly.Publication object at 0x11d5e3090>,\n",
      "                  <scholarly.scholarly.Publication object at 0x11d5e30d0>,\n",
      "                  <scholarly.scholarly.Publication object at 0x11d5e3110>,\n",
      "                  <scholarly.scholarly.Publication object at 0x11d5e3150>,\n",
      "                  <scholarly.scholarly.Publication object at 0x11d5e3190>,\n",
      "                  <scholarly.scholarly.Publication object at 0x11d5e31d0>,\n",
      "                  <scholarly.scholarly.Publication object at 0x11d5e3210>,\n",
      "                  <scholarly.scholarly.Publication object at 0x11d5e3250>,\n",
      "                  <scholarly.scholarly.Publication object at 0x11d5e3290>,\n",
      "                  <scholarly.scholarly.Publication object at 0x11d5e32d0>,\n",
      "                  <scholarly.scholarly.Publication object at 0x11d5e3310>,\n",
      "                  <scholarly.scholarly.Publication object at 0x11d5e3350>,\n",
      "                  <scholarly.scholarly.Publication object at 0x11d5e3390>,\n",
      "                  <scholarly.scholarly.Publication object at 0x11d5e33d0>,\n",
      "                  <scholarly.scholarly.Publication object at 0x11d5e3410>,\n",
      "                  <scholarly.scholarly.Publication object at 0x11d5e3450>,\n",
      "                  <scholarly.scholarly.Publication object at 0x11d5e3490>,\n",
      "                  <scholarly.scholarly.Publication object at 0x11d5e34d0>,\n",
      "                  <scholarly.scholarly.Publication object at 0x11d5e3510>,\n",
      "                  <scholarly.scholarly.Publication object at 0x11d5e3550>,\n",
      "                  <scholarly.scholarly.Publication object at 0x11d5e3590>,\n",
      "                  <scholarly.scholarly.Publication object at 0x11d5e35d0>,\n",
      "                  <scholarly.scholarly.Publication object at 0x11d5e3610>,\n",
      "                  <scholarly.scholarly.Publication object at 0x11d5e3650>,\n",
      "                  <scholarly.scholarly.Publication object at 0x11d5e3690>,\n",
      "                  <scholarly.scholarly.Publication object at 0x11d5e36d0>,\n",
      "                  <scholarly.scholarly.Publication object at 0x11d5e3710>,\n",
      "                  <scholarly.scholarly.Publication object at 0x11d5e3750>,\n",
      "                  <scholarly.scholarly.Publication object at 0x11d5e3790>,\n",
      "                  <scholarly.scholarly.Publication object at 0x11d5e37d0>,\n",
      "                  <scholarly.scholarly.Publication object at 0x11d5e3810>,\n",
      "                  <scholarly.scholarly.Publication object at 0x11d5e3850>,\n",
      "                  <scholarly.scholarly.Publication object at 0x11d5e3890>,\n",
      "                  <scholarly.scholarly.Publication object at 0x11d5e38d0>,\n",
      "                  <scholarly.scholarly.Publication object at 0x11d5e3910>,\n",
      "                  <scholarly.scholarly.Publication object at 0x11d5e3950>,\n",
      "                  <scholarly.scholarly.Publication object at 0x11d5e3990>,\n",
      "                  <scholarly.scholarly.Publication object at 0x11d5e39d0>,\n",
      "                  <scholarly.scholarly.Publication object at 0x11d5e3a10>,\n",
      "                  <scholarly.scholarly.Publication object at 0x11d5e3a50>,\n",
      "                  <scholarly.scholarly.Publication object at 0x11d5e3a90>,\n",
      "                  <scholarly.scholarly.Publication object at 0x11d5e3ad0>,\n",
      "                  <scholarly.scholarly.Publication object at 0x11d5e3b10>,\n",
      "                  <scholarly.scholarly.Publication object at 0x11d5e3b50>,\n",
      "                  <scholarly.scholarly.Publication object at 0x11d5e3b90>,\n",
      "                  <scholarly.scholarly.Publication object at 0x11d5e3bd0>,\n",
      "                  <scholarly.scholarly.Publication object at 0x11d5e3c10>,\n",
      "                  <scholarly.scholarly.Publication object at 0x11d5e3c50>,\n",
      "                  <scholarly.scholarly.Publication object at 0x11d5e3c90>,\n",
      "                  <scholarly.scholarly.Publication object at 0x11d5e3cd0>,\n",
      "                  <scholarly.scholarly.Publication object at 0x11d5e3d10>,\n",
      "                  <scholarly.scholarly.Publication object at 0x11d5e3d50>,\n",
      "                  <scholarly.scholarly.Publication object at 0x11d5e3d90>,\n",
      "                  <scholarly.scholarly.Publication object at 0x11d5e3dd0>,\n",
      "                  <scholarly.scholarly.Publication object at 0x11d5e3e10>,\n",
      "                  <scholarly.scholarly.Publication object at 0x11d5e3e50>,\n",
      "                  <scholarly.scholarly.Publication object at 0x11d5e3e90>,\n",
      "                  <scholarly.scholarly.Publication object at 0x11d5e3ed0>,\n",
      "                  <scholarly.scholarly.Publication object at 0x11d5e3f10>,\n",
      "                  <scholarly.scholarly.Publication object at 0x11d5e3f50>,\n",
      "                  <scholarly.scholarly.Publication object at 0x11d5e3f90>,\n",
      "                  <scholarly.scholarly.Publication object at 0x11d5e3fd0>,\n",
      "                  <scholarly.scholarly.Publication object at 0x11d670050>,\n",
      "                  <scholarly.scholarly.Publication object at 0x11d670090>,\n",
      "                  <scholarly.scholarly.Publication object at 0x11d6700d0>,\n",
      "                  <scholarly.scholarly.Publication object at 0x11d670110>,\n",
      "                  <scholarly.scholarly.Publication object at 0x11d670150>,\n",
      "                  <scholarly.scholarly.Publication object at 0x11d670190>,\n",
      "                  <scholarly.scholarly.Publication object at 0x11d6701d0>,\n",
      "                  <scholarly.scholarly.Publication object at 0x11d670210>,\n",
      "                  <scholarly.scholarly.Publication object at 0x11d670250>,\n",
      "                  <scholarly.scholarly.Publication object at 0x11d478590>,\n",
      "                  <scholarly.scholarly.Publication object at 0x11d478550>,\n",
      "                  <scholarly.scholarly.Publication object at 0x11d13ced0>,\n",
      "                  <scholarly.scholarly.Publication object at 0x11d13cb50>,\n",
      "                  <scholarly.scholarly.Publication object at 0x11d13cf10>,\n",
      "                  <scholarly.scholarly.Publication object at 0x11d13cf50>,\n",
      "                  <scholarly.scholarly.Publication object at 0x11d13cf90>,\n",
      "                  <scholarly.scholarly.Publication object at 0x11d13cfd0>,\n",
      "                  <scholarly.scholarly.Publication object at 0x11d141050>,\n",
      "                  <scholarly.scholarly.Publication object at 0x11d141090>,\n",
      "                  <scholarly.scholarly.Publication object at 0x11d1410d0>,\n",
      "                  <scholarly.scholarly.Publication object at 0x11d141110>,\n",
      "                  <scholarly.scholarly.Publication object at 0x11d141150>,\n",
      "                  <scholarly.scholarly.Publication object at 0x11d141190>,\n",
      "                  <scholarly.scholarly.Publication object at 0x11d1411d0>,\n",
      "                  <scholarly.scholarly.Publication object at 0x11d141210>,\n",
      "                  <scholarly.scholarly.Publication object at 0x11d141250>,\n",
      "                  <scholarly.scholarly.Publication object at 0x11d141290>,\n",
      "                  <scholarly.scholarly.Publication object at 0x11d1412d0>,\n",
      "                  <scholarly.scholarly.Publication object at 0x11d141310>,\n",
      "                  <scholarly.scholarly.Publication object at 0x11d141350>,\n",
      "                  <scholarly.scholarly.Publication object at 0x11d141390>,\n",
      "                  <scholarly.scholarly.Publication object at 0x11d1413d0>,\n",
      "                  <scholarly.scholarly.Publication object at 0x11d141410>,\n",
      "                  <scholarly.scholarly.Publication object at 0x11d141450>,\n",
      "                  <scholarly.scholarly.Publication object at 0x11d141490>,\n",
      "                  <scholarly.scholarly.Publication object at 0x11d1414d0>,\n",
      "                  <scholarly.scholarly.Publication object at 0x11d141510>,\n",
      "                  <scholarly.scholarly.Publication object at 0x11d141550>,\n",
      "                  <scholarly.scholarly.Publication object at 0x11d141590>,\n",
      "                  <scholarly.scholarly.Publication object at 0x11d1415d0>,\n",
      "                  <scholarly.scholarly.Publication object at 0x11d141610>,\n",
      "                  <scholarly.scholarly.Publication object at 0x11d141650>,\n",
      "                  <scholarly.scholarly.Publication object at 0x11d141690>,\n",
      "                  <scholarly.scholarly.Publication object at 0x11d1416d0>,\n",
      "                  <scholarly.scholarly.Publication object at 0x11d141710>,\n",
      "                  <scholarly.scholarly.Publication object at 0x11d141750>,\n",
      "                  <scholarly.scholarly.Publication object at 0x11d141790>,\n",
      "                  <scholarly.scholarly.Publication object at 0x11d1417d0>,\n",
      "                  <scholarly.scholarly.Publication object at 0x11d141810>,\n",
      "                  <scholarly.scholarly.Publication object at 0x11d141850>,\n",
      "                  <scholarly.scholarly.Publication object at 0x11d141890>,\n",
      "                  <scholarly.scholarly.Publication object at 0x11d1418d0>,\n",
      "                  <scholarly.scholarly.Publication object at 0x11d141910>,\n",
      "                  <scholarly.scholarly.Publication object at 0x11d141950>,\n",
      "                  <scholarly.scholarly.Publication object at 0x11d141990>,\n",
      "                  <scholarly.scholarly.Publication object at 0x11d1419d0>,\n",
      "                  <scholarly.scholarly.Publication object at 0x11d141a10>,\n",
      "                  <scholarly.scholarly.Publication object at 0x11d141a50>,\n",
      "                  <scholarly.scholarly.Publication object at 0x11d141a90>,\n",
      "                  <scholarly.scholarly.Publication object at 0x11d141ad0>],\n",
      " 'url_picture': 'https://scholar.google.com/citations?view_op=medium_photo&user=ASTIg_wAAAAJ'}\n"
     ]
    }
   ],
   "source": [
    "search_query = scholarly.search_author('Jim Pfaendtner')\n",
    "\n",
    "print(next(search_query)) \n",
    "# Retrieve the author's data, fill-in, and print\n",
    "\n",
    "search_query = scholarly.search_author('Jim Pfaendtner')\n",
    "author = next(search_query).fill()\n",
    "print(author)"
   ]
  },
  {
   "cell_type": "code",
   "execution_count": null,
   "metadata": {},
   "outputs": [],
   "source": [
    "library = pd.Dataframe(columns = ['title','author','url'])\n",
    "\n",
    "for pub in author.publications:\n",
    "    \n",
    "    \n"
   ]
  },
  {
   "cell_type": "code",
   "execution_count": 43,
   "metadata": {},
   "outputs": [
    {
     "data": {
      "text/plain": [
       "Status(_api=<tweepy.api.API object at 0x10aa5f750>, _json={'created_at': 'Thu Mar 12 23:53:55 +0000 2020', 'id': 1238251910873972736, 'id_str': '1238251910873972736', 'text': 'Jim Pfaendtner citation stats: {2007: 16, 2008: 25, 2009: 60, 2010: 103, 2011: 125, 2012: 114, 2013: 132, 2014: 128… https://t.co/CRAr6zVNTE', 'truncated': True, 'entities': {'hashtags': [], 'symbols': [], 'user_mentions': [], 'urls': [{'url': 'https://t.co/CRAr6zVNTE', 'expanded_url': 'https://twitter.com/i/web/status/1238251910873972736', 'display_url': 'twitter.com/i/web/status/1…', 'indices': [117, 140]}]}, 'source': '<a href=\"https://www.aiche.org/community/divisions-forums/comsef\" rel=\"nofollow\">comsef_paper</a>', 'in_reply_to_status_id': None, 'in_reply_to_status_id_str': None, 'in_reply_to_user_id': None, 'in_reply_to_user_id_str': None, 'in_reply_to_screen_name': None, 'user': {'id': 1237156440713736192, 'id_str': '1237156440713736192', 'name': 'CoMSEF papers', 'screen_name': 'CoMSEF_papers', 'location': '', 'description': '', 'url': None, 'entities': {'description': {'urls': []}}, 'protected': False, 'followers_count': 3, 'friends_count': 3, 'listed_count': 0, 'created_at': 'Mon Mar 09 23:21:14 +0000 2020', 'favourites_count': 1, 'utc_offset': None, 'time_zone': None, 'geo_enabled': False, 'verified': False, 'statuses_count': 4, 'lang': None, 'contributors_enabled': False, 'is_translator': False, 'is_translation_enabled': False, 'profile_background_color': 'F5F8FA', 'profile_background_image_url': None, 'profile_background_image_url_https': None, 'profile_background_tile': False, 'profile_image_url': 'http://abs.twimg.com/sticky/default_profile_images/default_profile_normal.png', 'profile_image_url_https': 'https://abs.twimg.com/sticky/default_profile_images/default_profile_normal.png', 'profile_link_color': '1DA1F2', 'profile_sidebar_border_color': 'C0DEED', 'profile_sidebar_fill_color': 'DDEEF6', 'profile_text_color': '333333', 'profile_use_background_image': True, 'has_extended_profile': True, 'default_profile': True, 'default_profile_image': True, 'following': False, 'follow_request_sent': False, 'notifications': False, 'translator_type': 'none'}, 'geo': None, 'coordinates': None, 'place': None, 'contributors': None, 'is_quote_status': False, 'retweet_count': 0, 'favorite_count': 0, 'favorited': False, 'retweeted': False, 'lang': 'de'}, created_at=datetime.datetime(2020, 3, 12, 23, 53, 55), id=1238251910873972736, id_str='1238251910873972736', text='Jim Pfaendtner citation stats: {2007: 16, 2008: 25, 2009: 60, 2010: 103, 2011: 125, 2012: 114, 2013: 132, 2014: 128… https://t.co/CRAr6zVNTE', truncated=True, entities={'hashtags': [], 'symbols': [], 'user_mentions': [], 'urls': [{'url': 'https://t.co/CRAr6zVNTE', 'expanded_url': 'https://twitter.com/i/web/status/1238251910873972736', 'display_url': 'twitter.com/i/web/status/1…', 'indices': [117, 140]}]}, source='comsef_paper', source_url='https://www.aiche.org/community/divisions-forums/comsef', in_reply_to_status_id=None, in_reply_to_status_id_str=None, in_reply_to_user_id=None, in_reply_to_user_id_str=None, in_reply_to_screen_name=None, author=User(_api=<tweepy.api.API object at 0x10aa5f750>, _json={'id': 1237156440713736192, 'id_str': '1237156440713736192', 'name': 'CoMSEF papers', 'screen_name': 'CoMSEF_papers', 'location': '', 'description': '', 'url': None, 'entities': {'description': {'urls': []}}, 'protected': False, 'followers_count': 3, 'friends_count': 3, 'listed_count': 0, 'created_at': 'Mon Mar 09 23:21:14 +0000 2020', 'favourites_count': 1, 'utc_offset': None, 'time_zone': None, 'geo_enabled': False, 'verified': False, 'statuses_count': 4, 'lang': None, 'contributors_enabled': False, 'is_translator': False, 'is_translation_enabled': False, 'profile_background_color': 'F5F8FA', 'profile_background_image_url': None, 'profile_background_image_url_https': None, 'profile_background_tile': False, 'profile_image_url': 'http://abs.twimg.com/sticky/default_profile_images/default_profile_normal.png', 'profile_image_url_https': 'https://abs.twimg.com/sticky/default_profile_images/default_profile_normal.png', 'profile_link_color': '1DA1F2', 'profile_sidebar_border_color': 'C0DEED', 'profile_sidebar_fill_color': 'DDEEF6', 'profile_text_color': '333333', 'profile_use_background_image': True, 'has_extended_profile': True, 'default_profile': True, 'default_profile_image': True, 'following': False, 'follow_request_sent': False, 'notifications': False, 'translator_type': 'none'}, id=1237156440713736192, id_str='1237156440713736192', name='CoMSEF papers', screen_name='CoMSEF_papers', location='', description='', url=None, entities={'description': {'urls': []}}, protected=False, followers_count=3, friends_count=3, listed_count=0, created_at=datetime.datetime(2020, 3, 9, 23, 21, 14), favourites_count=1, utc_offset=None, time_zone=None, geo_enabled=False, verified=False, statuses_count=4, lang=None, contributors_enabled=False, is_translator=False, is_translation_enabled=False, profile_background_color='F5F8FA', profile_background_image_url=None, profile_background_image_url_https=None, profile_background_tile=False, profile_image_url='http://abs.twimg.com/sticky/default_profile_images/default_profile_normal.png', profile_image_url_https='https://abs.twimg.com/sticky/default_profile_images/default_profile_normal.png', profile_link_color='1DA1F2', profile_sidebar_border_color='C0DEED', profile_sidebar_fill_color='DDEEF6', profile_text_color='333333', profile_use_background_image=True, has_extended_profile=True, default_profile=True, default_profile_image=True, following=False, follow_request_sent=False, notifications=False, translator_type='none'), user=User(_api=<tweepy.api.API object at 0x10aa5f750>, _json={'id': 1237156440713736192, 'id_str': '1237156440713736192', 'name': 'CoMSEF papers', 'screen_name': 'CoMSEF_papers', 'location': '', 'description': '', 'url': None, 'entities': {'description': {'urls': []}}, 'protected': False, 'followers_count': 3, 'friends_count': 3, 'listed_count': 0, 'created_at': 'Mon Mar 09 23:21:14 +0000 2020', 'favourites_count': 1, 'utc_offset': None, 'time_zone': None, 'geo_enabled': False, 'verified': False, 'statuses_count': 4, 'lang': None, 'contributors_enabled': False, 'is_translator': False, 'is_translation_enabled': False, 'profile_background_color': 'F5F8FA', 'profile_background_image_url': None, 'profile_background_image_url_https': None, 'profile_background_tile': False, 'profile_image_url': 'http://abs.twimg.com/sticky/default_profile_images/default_profile_normal.png', 'profile_image_url_https': 'https://abs.twimg.com/sticky/default_profile_images/default_profile_normal.png', 'profile_link_color': '1DA1F2', 'profile_sidebar_border_color': 'C0DEED', 'profile_sidebar_fill_color': 'DDEEF6', 'profile_text_color': '333333', 'profile_use_background_image': True, 'has_extended_profile': True, 'default_profile': True, 'default_profile_image': True, 'following': False, 'follow_request_sent': False, 'notifications': False, 'translator_type': 'none'}, id=1237156440713736192, id_str='1237156440713736192', name='CoMSEF papers', screen_name='CoMSEF_papers', location='', description='', url=None, entities={'description': {'urls': []}}, protected=False, followers_count=3, friends_count=3, listed_count=0, created_at=datetime.datetime(2020, 3, 9, 23, 21, 14), favourites_count=1, utc_offset=None, time_zone=None, geo_enabled=False, verified=False, statuses_count=4, lang=None, contributors_enabled=False, is_translator=False, is_translation_enabled=False, profile_background_color='F5F8FA', profile_background_image_url=None, profile_background_image_url_https=None, profile_background_tile=False, profile_image_url='http://abs.twimg.com/sticky/default_profile_images/default_profile_normal.png', profile_image_url_https='https://abs.twimg.com/sticky/default_profile_images/default_profile_normal.png', profile_link_color='1DA1F2', profile_sidebar_border_color='C0DEED', profile_sidebar_fill_color='DDEEF6', profile_text_color='333333', profile_use_background_image=True, has_extended_profile=True, default_profile=True, default_profile_image=True, following=False, follow_request_sent=False, notifications=False, translator_type='none'), geo=None, coordinates=None, place=None, contributors=None, is_quote_status=False, retweet_count=0, favorite_count=0, favorited=False, retweeted=False, lang='de')"
      ]
     },
     "execution_count": 43,
     "metadata": {},
     "output_type": "execute_result"
    }
   ],
   "source": [
    "api.update_status(author.name+' citation stats: '+str(author.cites_per_year))"
   ]
  },
  {
   "cell_type": "code",
   "execution_count": null,
   "metadata": {},
   "outputs": [],
   "source": []
  }
 ],
 "metadata": {
  "kernelspec": {
   "display_name": "Python 3",
   "language": "python",
   "name": "python3"
  },
  "language_info": {
   "codemirror_mode": {
    "name": "ipython",
    "version": 3
   },
   "file_extension": ".py",
   "mimetype": "text/x-python",
   "name": "python",
   "nbconvert_exporter": "python",
   "pygments_lexer": "ipython3",
   "version": "3.7.4"
  }
 },
 "nbformat": 4,
 "nbformat_minor": 2
}
